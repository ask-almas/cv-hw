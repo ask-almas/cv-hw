{
  "nbformat": 4,
  "nbformat_minor": 0,
  "metadata": {
    "colab": {
      "name": "TrafficSignsClassification.ipynb",
      "provenance": [],
      "collapsed_sections": []
    },
    "kernelspec": {
      "name": "python3",
      "display_name": "Python 3"
    },
    "accelerator": "GPU"
  },
  "cells": [
    {
      "cell_type": "code",
      "metadata": {
        "id": "rsbjA5CVKNFQ",
        "colab_type": "code",
        "outputId": "d8f741ed-57a9-472b-f00c-917a1d302788",
        "colab": {
          "base_uri": "https://localhost:8080/",
          "height": 202
        }
      },
      "source": [
        "# Traffic Sign Classification set\n",
        "!wget http://deeplearning.iit.bme.hu/CVS/trafficSignsHW.zip\n",
        "!unzip -qq trafficSignsHW.zip\n",
        "!rm trafficSignsHW.zip"
      ],
      "execution_count": 0,
      "outputs": [
        {
          "output_type": "stream",
          "text": [
            "--2020-04-26 20:10:10--  http://deeplearning.iit.bme.hu/CVS/trafficSignsHW.zip\n",
            "Resolving deeplearning.iit.bme.hu (deeplearning.iit.bme.hu)... 152.66.243.112\n",
            "Connecting to deeplearning.iit.bme.hu (deeplearning.iit.bme.hu)|152.66.243.112|:80... connected.\n",
            "HTTP request sent, awaiting response... 200 OK\n",
            "Length: 175675617 (168M) [application/zip]\n",
            "Saving to: ‘trafficSignsHW.zip’\n",
            "\n",
            "trafficSignsHW.zip  100%[===================>] 167.54M  11.9MB/s    in 15s     \n",
            "\n",
            "2020-04-26 20:10:27 (11.0 MB/s) - ‘trafficSignsHW.zip’ saved [175675617/175675617]\n",
            "\n"
          ],
          "name": "stdout"
        }
      ]
    },
    {
      "cell_type": "code",
      "metadata": {
        "id": "NhADDb-UH6LO",
        "colab_type": "code",
        "colab": {}
      },
      "source": [
        "import torch\n",
        "import torch.nn as nn\n",
        "\n",
        "# Convolutional module (Conv+ReLU+BatchNorm)\n",
        "class Conv(nn.Module):\n",
        "    \n",
        "    # Constructor gets in and output channels and stride\n",
        "    def __init__(self, in_channels, channels, stride=1):\n",
        "        super(Conv, self).__init__()\n",
        "        \n",
        "        # Create 2D Convolution (3x3)\n",
        "        self.conv = nn.Conv2d(in_channels, channels, kernel_size=3, stride=stride, padding=1, bias=False)\n",
        "        \n",
        "        # Create Batchnorm\n",
        "        self.bn = nn.BatchNorm2d(channels)\n",
        "        \n",
        "    # Overwrite forward\n",
        "    def forward(self,x):\n",
        "        # Call the layers in the proper order\n",
        "        return self.bn(torch.relu(self.conv(x)))"
      ],
      "execution_count": 0,
      "outputs": []
    },
    {
      "cell_type": "code",
      "metadata": {
        "id": "hvAB89RNIE1d",
        "colab_type": "code",
        "colab": {}
      },
      "source": [
        "class ConvNet(nn.Module):\n",
        "    \n",
        "    # Constructor gets channel number of the image and the first filter\n",
        "    def __init__(self, base_channels=16, in_channels=3, num_classes=52):\n",
        "        super(ConvNet, self).__init__()\n",
        "        \n",
        "        # First two filters\n",
        "        self.c11 = Conv(in_channels, base_channels)\n",
        "        self.c12 = Conv(base_channels, base_channels)\n",
        "        \n",
        "        # Downscale using strided convolution and expand channels\n",
        "        self.d1 = Conv(base_channels, base_channels*2, 2)\n",
        "        \n",
        "        # Repeat this 4 times\n",
        "        self.c21 = Conv(base_channels*2, base_channels*2)\n",
        "        self.c22 = Conv(base_channels*2, base_channels*2)\n",
        "        \n",
        "        self.d2 = Conv(base_channels*2, base_channels*4, 2)\n",
        "        \n",
        "        self.c31 = Conv(base_channels*4, base_channels*4)\n",
        "        self.c32 = Conv(base_channels*4, base_channels*4)\n",
        "        \n",
        "        self.d3 = Conv(base_channels*4, base_channels*8, 2)\n",
        "        \n",
        "        self.c41 = Conv(base_channels*8, base_channels*8)\n",
        "        self.c42 = Conv(base_channels*8, base_channels*8)\n",
        "        \n",
        "        self.d4 = Conv(base_channels*8, base_channels*16, 2)\n",
        "        \n",
        "        self.c51 = Conv(base_channels*16, base_channels*16)\n",
        "        self.c52 = Conv(base_channels*16, base_channels*16)\n",
        "        \n",
        "        # Input image is 32x32 -> after 5 downscaling the activation map is 1x1\n",
        "        self.d5 = Conv(base_channels*16, base_channels*32, 2)\n",
        "        \n",
        "        # Classifier is a normal 1x1 convolution that produces num_classes class scores\n",
        "        # This layer does not have BatchNorm of ReLU\n",
        "        self.classifier = nn.Conv2d(base_channels*32,num_classes,kernel_size=1)\n",
        "        \n",
        "    def forward(self,x):\n",
        "        # Class all the layers\n",
        "        x = self.d1(self.c12(self.c11(x)))\n",
        "        x = self.d2(self.c22(self.c21(x)))\n",
        "        x = self.d3(self.c32(self.c31(x)))\n",
        "        x = self.d4(self.c42(self.c41(x)))\n",
        "        x = self.d5(self.c52(self.c51(x)))\n",
        "        \n",
        "        # Squeeze removes dimensions that have only 1 element\n",
        "        # Output of the conv layer is (batch_size x num_classes x 1 x 1)\n",
        "        # After squeeze is becomes (batch_size x num_classes)\n",
        "        return torch.squeeze(self.classifier(x))"
      ],
      "execution_count": 0,
      "outputs": []
    },
    {
      "cell_type": "code",
      "metadata": {
        "id": "1Lymt-MvJzLd",
        "colab_type": "code",
        "outputId": "388bb42e-2c80-4334-aef3-7fe357fda5de",
        "colab": {
          "base_uri": "https://localhost:8080/",
          "height": 34
        }
      },
      "source": [
        "haveCuda = torch.cuda.is_available()\n",
        "print(haveCuda)"
      ],
      "execution_count": 0,
      "outputs": [
        {
          "output_type": "stream",
          "text": [
            "True\n"
          ],
          "name": "stdout"
        }
      ]
    },
    {
      "cell_type": "code",
      "metadata": {
        "id": "OzbJaKrbJ1al",
        "colab_type": "code",
        "colab": {}
      },
      "source": [
        "from torchvision import transforms\n",
        "\n",
        "# Necessary transformations: conversion to PyTorch Tensor and normalization\n",
        "# Normalization is performed with channels-wise means and variances computed on ImageNet\n",
        "transform_val = transforms.Compose([\n",
        "    transforms.ToTensor(),\n",
        "    transforms.Normalize((0.49139968, 0.48215827, 0.44653124),\n",
        "                         (0.24703233, 0.24348505, 0.26158768))\n",
        "])\n",
        "\n",
        "# Train database transform includes data augmentation\n",
        "transform = transforms.Compose([\n",
        "    # Random 32x32 crops (with 4-wide zero padding - this is needed because the \n",
        "    # input is 32x32 so we can't crop a 32x32 region out of it without padding)\n",
        "    transforms.RandomCrop(32,padding=4),\n",
        "    # Flips horizontally with p=0.5\n",
        "    # transforms.RandomHorizontalFlip(),\n",
        "    # Random perturbance of brightness, contrast and color\n",
        "    transforms.ColorJitter(brightness=0.3,contrast=0.3,saturation=0.3,hue=0.2),\n",
        "    transforms.ToTensor(),\n",
        "    transforms.Normalize((0.49139968, 0.48215827, 0.44653124),\n",
        "                         (0.24703233, 0.24348505, 0.26158768))\n",
        "])"
      ],
      "execution_count": 0,
      "outputs": []
    },
    {
      "cell_type": "code",
      "metadata": {
        "id": "cS76o3bIKPmj",
        "colab_type": "code",
        "colab": {}
      },
      "source": [
        "import torchvision\n",
        "\n",
        "# Trainsets automatically download the dataset if not present\n",
        "trainSet = torchvision.datasets.ImageFolder(root='/content/trafficSignsHW/trainFULL', transform=transform)\n",
        "testSet = torchvision.datasets.ImageFolder(root='/content/trafficSignsHW/testFULL', transform=transform_val)"
      ],
      "execution_count": 0,
      "outputs": []
    },
    {
      "cell_type": "code",
      "metadata": {
        "id": "ZLF2znpRMiSq",
        "colab_type": "code",
        "colab": {}
      },
      "source": [
        "# Dataloaders are responsible for giving random (if shuffle is true) minibatches\n",
        "train_size = int(0.9 * len(trainSet))\n",
        "valid_size = len(trainSet) - train_size\n",
        "train_set_rand, valid_set_rand = torch.utils.data.random_split(trainSet, [train_size, valid_size])\n",
        "trainLoader = torch.utils.data.DataLoader(train_set_rand, batch_size=128, shuffle=True)\n",
        "validLoader = torch.utils.data.DataLoader(valid_set_rand, batch_size=128, shuffle=True)\n",
        "testLoader = torch.utils.data.DataLoader(testSet, batch_size=128, shuffle=True)"
      ],
      "execution_count": 0,
      "outputs": []
    },
    {
      "cell_type": "code",
      "metadata": {
        "id": "gxbAzbugOEY9",
        "colab_type": "code",
        "colab": {}
      },
      "source": [
        "# Instantiate network and convert it to CUDA\n",
        "def createNet():\n",
        "    net = ConvNet()\n",
        "    if haveCuda:\n",
        "        net = net.cuda()\n",
        "    return net"
      ],
      "execution_count": 0,
      "outputs": []
    },
    {
      "cell_type": "code",
      "metadata": {
        "id": "zfqwpQBYOGr8",
        "colab_type": "code",
        "colab": {}
      },
      "source": [
        "# We use cros entropy, since CIFAR10 is a classification set\n",
        "def createLoss():\n",
        "    return nn.CrossEntropyLoss()"
      ],
      "execution_count": 0,
      "outputs": []
    },
    {
      "cell_type": "code",
      "metadata": {
        "id": "-U3bYfpXOJFP",
        "colab_type": "code",
        "colab": {}
      },
      "source": [
        "from torch import optim\n",
        "# Stochastic Gradient Descent (SGD) optimizer with Nesterov momentum and 0.1 learning rate\n",
        "# Weight decay is the relative weight of the L2 regularization term\n",
        "def createOptimizer():\n",
        "    return optim.SGD(net.parameters(), lr=1e-1, momentum=0.9, nesterov=True, weight_decay=1e-4)"
      ],
      "execution_count": 0,
      "outputs": []
    },
    {
      "cell_type": "code",
      "metadata": {
        "id": "RjkSrz2DOML-",
        "colab_type": "code",
        "colab": {}
      },
      "source": [
        "# Run for 50 epochs - 1 epoch means the networks sees every training image once\n",
        "numEpoch = 10\n",
        "\n",
        "# Cosine annealing learning rate scheduler - in 50 epochs the lr will become 0.01\n",
        "def createScheduler():\n",
        "    return optim.lr_scheduler.CosineAnnealingLR(optimizer,numEpoch,eta_min=1e-2)"
      ],
      "execution_count": 0,
      "outputs": []
    },
    {
      "cell_type": "code",
      "metadata": {
        "id": "TbkpGzRQOSfg",
        "colab_type": "code",
        "colab": {}
      },
      "source": [
        "from IPython.display import HTML, display\n",
        "\n",
        "def progress(value, max=100):\n",
        "    return HTML(\"\"\"\n",
        "        <progress\n",
        "            value='{value}'\n",
        "            max='{max}',\n",
        "            style='width: 100%'\n",
        "        >\n",
        "            {value}\n",
        "        </progress>\n",
        "    \"\"\".format(value=value, max=max))"
      ],
      "execution_count": 0,
      "outputs": []
    },
    {
      "cell_type": "code",
      "metadata": {
        "id": "QVShSea6OYfu",
        "colab_type": "code",
        "colab": {}
      },
      "source": [
        "# Function for training a single epch\n",
        "def train(epoch):\n",
        "\n",
        "    # variables for loss\n",
        "    running_loss = 0.0\n",
        "    correct = 0.0\n",
        "    total = 0\n",
        "\n",
        "    # set the network to train (for batchnorm and dropout)\n",
        "    net.train()\n",
        "\n",
        "    # Create progress bar\n",
        "    bar = display(progress(0, len(trainLoader)), display_id=True)\n",
        "\n",
        "    # data will contain one minibatch of images and correcponding labels\n",
        "    # When the iteration is finished we have seen every training image once\n",
        "    for i, data in enumerate(trainLoader, 0):\n",
        "        # get the inputs\n",
        "        inputs, labels = data\n",
        "\n",
        "        # Convert to cuda\n",
        "        if haveCuda:\n",
        "            inputs, labels = inputs.cuda(), labels.cuda()\n",
        "\n",
        "        # Clear any previous gradients\n",
        "        optimizer.zero_grad()\n",
        "\n",
        "        # Forward\n",
        "        outputs = net(inputs)\n",
        "        # Loss\n",
        "        loss = criterion(outputs, labels)\n",
        "        # Backpropagation\n",
        "        loss.backward()\n",
        "        # Gradient method\n",
        "        optimizer.step()\n",
        "\n",
        "        # Do not include these steps in the computational graph\n",
        "        with torch.no_grad():\n",
        "            # Accumulate loss\n",
        "            running_loss += loss.item()\n",
        "            # Get indices of the largest goodness values\n",
        "            _, predicted = torch.max(outputs, 1)\n",
        "            # Count how many of the predictions equal the labels\n",
        "            correct += predicted.eq(labels).sum().item()\n",
        "            # Accumulate number of total images seen\n",
        "            total += labels.size(0)\n",
        "\n",
        "        # Progress bar\n",
        "        bar.update(progress(i+1, len(trainLoader)))\n",
        "\n",
        "    # return loss and accuracy\n",
        "    tr_loss = running_loss / i\n",
        "    tr_corr = correct / total * 100\n",
        "    print(\"Train epoch %d loss: %.3f correct: %.2f\" % (epoch + 1, running_loss / i, tr_corr))\n",
        "    return tr_loss,tr_corr"
      ],
      "execution_count": 0,
      "outputs": []
    },
    {
      "cell_type": "code",
      "metadata": {
        "id": "yZP2rWbVOk4x",
        "colab_type": "code",
        "colab": {}
      },
      "source": [
        "# Function for validating a single epch\n",
        "def val(epoch):\n",
        "\n",
        "    # variables for loss\n",
        "    running_loss = 0.0\n",
        "    correct = 0.0\n",
        "    total = 0\n",
        "\n",
        "    # set the network to eval  (for batchnorm and dropout)\n",
        "    net.eval()\n",
        "\n",
        "    # Create progress bar\n",
        "    bar = display(progress(0, len(validLoader)), display_id=True)\n",
        "\n",
        "    for i, data in enumerate(validLoader, 0):\n",
        "        # get the inputs\n",
        "        inputs, labels = data\n",
        "\n",
        "        # Convert to cuda\n",
        "        if haveCuda:\n",
        "            inputs, labels = inputs.cuda(), labels.cuda()\n",
        "\n",
        "        # Do not include these steps in the computational graph\n",
        "        with torch.no_grad():\n",
        "            # Forward\n",
        "            outputs = net(inputs)\n",
        "            # Compute loss\n",
        "            loss = criterion(outputs, labels)\n",
        "\n",
        "            # Compute statistics, just like before\n",
        "            running_loss += loss.item()\n",
        "            _, predicted = torch.max(outputs, 1)\n",
        "            correct += predicted.eq(labels).sum().item()\n",
        "            total += labels.size(0)\n",
        "\n",
        "        bar.update(progress(i+1, len(validLoader)))\n",
        "\n",
        "    # return loss and accuracy\n",
        "    val_loss = running_loss / i\n",
        "    val_corr = correct / total * 100\n",
        "    print(\"Test epoch %d loss: %.3f correct: %.2f\" % (epoch + 1, running_loss / i, val_corr))\n",
        "    return val_loss,val_corr"
      ],
      "execution_count": 0,
      "outputs": []
    },
    {
      "cell_type": "code",
      "metadata": {
        "id": "l-cYUqlcQFxR",
        "colab_type": "code",
        "outputId": "10a754fc-5bc2-49b0-ff34-6dc5f55e4c5a",
        "colab": {
          "base_uri": "https://localhost:8080/",
          "height": 961
        }
      },
      "source": [
        "# Containers for losses and accuracies for every epoch\n",
        "train_accs = []\n",
        "train_losses = []\n",
        "val_accs = []\n",
        "val_losses = []\n",
        "\n",
        "# Best validation accuracy\n",
        "best_acc = 0\n",
        "\n",
        "# Set pseudo-random generator seeds to make multiple runs comparable\n",
        "torch.manual_seed(1)\n",
        "if haveCuda:\n",
        "    torch.cuda.manual_seed(1)\n",
        "\n",
        "# Create net, criterion, optimizer and scheduler\n",
        "# This needs to be done after setting the random seed, \n",
        "# so that the random initialization would be the same\n",
        "net = createNet()\n",
        "criterion = createLoss()\n",
        "optimizer = createOptimizer()\n",
        "scheduler = createScheduler()\n",
        "\n",
        "# For numEpoch epochs\n",
        "for epoch in range(numEpoch):\n",
        "    \n",
        "    # The with the LR scheduler\n",
        "    scheduler.step()\n",
        "    \n",
        "    # Train\n",
        "    loss,acc = train(epoch)\n",
        "    train_accs.append(acc)\n",
        "    train_losses.append(loss)\n",
        "    \n",
        "    # Validate\n",
        "    loss,acc = val(epoch)\n",
        "    val_accs.append(acc)\n",
        "    val_losses.append(loss)\n",
        "    \n",
        "    # If the current model is better, than the previous best, save it\n",
        "    if acc > best_acc:\n",
        "        print(\"Best Model, Saving\")\n",
        "        best_acc = acc\n",
        "        torch.save(net,\"/content/trafficSignsHW/model.pth\")"
      ],
      "execution_count": 0,
      "outputs": [
        {
          "output_type": "stream",
          "text": [
            "/usr/local/lib/python3.6/dist-packages/torch/optim/lr_scheduler.py:122: UserWarning: Detected call of `lr_scheduler.step()` before `optimizer.step()`. In PyTorch 1.1.0 and later, you should call them in the opposite order: `optimizer.step()` before `lr_scheduler.step()`.  Failure to do this will result in PyTorch skipping the first value of the learning rate schedule. See more details at https://pytorch.org/docs/stable/optim.html#how-to-adjust-learning-rate\n",
            "  \"https://pytorch.org/docs/stable/optim.html#how-to-adjust-learning-rate\", UserWarning)\n"
          ],
          "name": "stderr"
        },
        {
          "output_type": "display_data",
          "data": {
            "text/html": [
              "\n",
              "        <progress\n",
              "            value='732'\n",
              "            max='732',\n",
              "            style='width: 100%'\n",
              "        >\n",
              "            732\n",
              "        </progress>\n",
              "    "
            ],
            "text/plain": [
              "<IPython.core.display.HTML object>"
            ]
          },
          "metadata": {
            "tags": []
          }
        },
        {
          "output_type": "stream",
          "text": [
            "Train epoch 1 loss: 1.825 correct: 49.44\n"
          ],
          "name": "stdout"
        },
        {
          "output_type": "display_data",
          "data": {
            "text/html": [
              "\n",
              "        <progress\n",
              "            value='82'\n",
              "            max='82',\n",
              "            style='width: 100%'\n",
              "        >\n",
              "            82\n",
              "        </progress>\n",
              "    "
            ],
            "text/plain": [
              "<IPython.core.display.HTML object>"
            ]
          },
          "metadata": {
            "tags": []
          }
        },
        {
          "output_type": "stream",
          "text": [
            "Test epoch 1 loss: 0.439 correct: 86.85\n",
            "Best Model, Saving\n"
          ],
          "name": "stdout"
        },
        {
          "output_type": "stream",
          "text": [
            "/usr/local/lib/python3.6/dist-packages/torch/serialization.py:360: UserWarning: Couldn't retrieve source code for container of type ConvNet. It won't be checked for correctness upon loading.\n",
            "  \"type \" + obj.__name__ + \". It won't be checked \"\n",
            "/usr/local/lib/python3.6/dist-packages/torch/serialization.py:360: UserWarning: Couldn't retrieve source code for container of type Conv. It won't be checked for correctness upon loading.\n",
            "  \"type \" + obj.__name__ + \". It won't be checked \"\n"
          ],
          "name": "stderr"
        },
        {
          "output_type": "display_data",
          "data": {
            "text/html": [
              "\n",
              "        <progress\n",
              "            value='732'\n",
              "            max='732',\n",
              "            style='width: 100%'\n",
              "        >\n",
              "            732\n",
              "        </progress>\n",
              "    "
            ],
            "text/plain": [
              "<IPython.core.display.HTML object>"
            ]
          },
          "metadata": {
            "tags": []
          }
        },
        {
          "output_type": "stream",
          "text": [
            "Train epoch 2 loss: 0.175 correct: 94.62\n"
          ],
          "name": "stdout"
        },
        {
          "output_type": "display_data",
          "data": {
            "text/html": [
              "\n",
              "        <progress\n",
              "            value='82'\n",
              "            max='82',\n",
              "            style='width: 100%'\n",
              "        >\n",
              "            82\n",
              "        </progress>\n",
              "    "
            ],
            "text/plain": [
              "<IPython.core.display.HTML object>"
            ]
          },
          "metadata": {
            "tags": []
          }
        },
        {
          "output_type": "stream",
          "text": [
            "Test epoch 2 loss: 0.150 correct: 95.68\n",
            "Best Model, Saving\n"
          ],
          "name": "stdout"
        },
        {
          "output_type": "display_data",
          "data": {
            "text/html": [
              "\n",
              "        <progress\n",
              "            value='732'\n",
              "            max='732',\n",
              "            style='width: 100%'\n",
              "        >\n",
              "            732\n",
              "        </progress>\n",
              "    "
            ],
            "text/plain": [
              "<IPython.core.display.HTML object>"
            ]
          },
          "metadata": {
            "tags": []
          }
        },
        {
          "output_type": "stream",
          "text": [
            "Train epoch 3 loss: 0.084 correct: 97.51\n"
          ],
          "name": "stdout"
        },
        {
          "output_type": "display_data",
          "data": {
            "text/html": [
              "\n",
              "        <progress\n",
              "            value='82'\n",
              "            max='82',\n",
              "            style='width: 100%'\n",
              "        >\n",
              "            82\n",
              "        </progress>\n",
              "    "
            ],
            "text/plain": [
              "<IPython.core.display.HTML object>"
            ]
          },
          "metadata": {
            "tags": []
          }
        },
        {
          "output_type": "stream",
          "text": [
            "Test epoch 3 loss: 0.069 correct: 97.94\n",
            "Best Model, Saving\n"
          ],
          "name": "stdout"
        },
        {
          "output_type": "display_data",
          "data": {
            "text/html": [
              "\n",
              "        <progress\n",
              "            value='732'\n",
              "            max='732',\n",
              "            style='width: 100%'\n",
              "        >\n",
              "            732\n",
              "        </progress>\n",
              "    "
            ],
            "text/plain": [
              "<IPython.core.display.HTML object>"
            ]
          },
          "metadata": {
            "tags": []
          }
        },
        {
          "output_type": "stream",
          "text": [
            "Train epoch 4 loss: 0.060 correct: 98.20\n"
          ],
          "name": "stdout"
        },
        {
          "output_type": "display_data",
          "data": {
            "text/html": [
              "\n",
              "        <progress\n",
              "            value='82'\n",
              "            max='82',\n",
              "            style='width: 100%'\n",
              "        >\n",
              "            82\n",
              "        </progress>\n",
              "    "
            ],
            "text/plain": [
              "<IPython.core.display.HTML object>"
            ]
          },
          "metadata": {
            "tags": []
          }
        },
        {
          "output_type": "stream",
          "text": [
            "Test epoch 4 loss: 0.049 correct: 98.49\n",
            "Best Model, Saving\n"
          ],
          "name": "stdout"
        },
        {
          "output_type": "display_data",
          "data": {
            "text/html": [
              "\n",
              "        <progress\n",
              "            value='732'\n",
              "            max='732',\n",
              "            style='width: 100%'\n",
              "        >\n",
              "            732\n",
              "        </progress>\n",
              "    "
            ],
            "text/plain": [
              "<IPython.core.display.HTML object>"
            ]
          },
          "metadata": {
            "tags": []
          }
        },
        {
          "output_type": "stream",
          "text": [
            "Train epoch 5 loss: 0.042 correct: 98.79\n"
          ],
          "name": "stdout"
        },
        {
          "output_type": "display_data",
          "data": {
            "text/html": [
              "\n",
              "        <progress\n",
              "            value='82'\n",
              "            max='82',\n",
              "            style='width: 100%'\n",
              "        >\n",
              "            82\n",
              "        </progress>\n",
              "    "
            ],
            "text/plain": [
              "<IPython.core.display.HTML object>"
            ]
          },
          "metadata": {
            "tags": []
          }
        },
        {
          "output_type": "stream",
          "text": [
            "Test epoch 5 loss: 0.038 correct: 98.96\n",
            "Best Model, Saving\n"
          ],
          "name": "stdout"
        },
        {
          "output_type": "display_data",
          "data": {
            "text/html": [
              "\n",
              "        <progress\n",
              "            value='732'\n",
              "            max='732',\n",
              "            style='width: 100%'\n",
              "        >\n",
              "            732\n",
              "        </progress>\n",
              "    "
            ],
            "text/plain": [
              "<IPython.core.display.HTML object>"
            ]
          },
          "metadata": {
            "tags": []
          }
        },
        {
          "output_type": "stream",
          "text": [
            "Train epoch 6 loss: 0.032 correct: 99.04\n"
          ],
          "name": "stdout"
        },
        {
          "output_type": "display_data",
          "data": {
            "text/html": [
              "\n",
              "        <progress\n",
              "            value='82'\n",
              "            max='82',\n",
              "            style='width: 100%'\n",
              "        >\n",
              "            82\n",
              "        </progress>\n",
              "    "
            ],
            "text/plain": [
              "<IPython.core.display.HTML object>"
            ]
          },
          "metadata": {
            "tags": []
          }
        },
        {
          "output_type": "stream",
          "text": [
            "Test epoch 6 loss: 0.026 correct: 99.30\n",
            "Best Model, Saving\n"
          ],
          "name": "stdout"
        },
        {
          "output_type": "display_data",
          "data": {
            "text/html": [
              "\n",
              "        <progress\n",
              "            value='732'\n",
              "            max='732',\n",
              "            style='width: 100%'\n",
              "        >\n",
              "            732\n",
              "        </progress>\n",
              "    "
            ],
            "text/plain": [
              "<IPython.core.display.HTML object>"
            ]
          },
          "metadata": {
            "tags": []
          }
        },
        {
          "output_type": "stream",
          "text": [
            "Train epoch 7 loss: 0.024 correct: 99.30\n"
          ],
          "name": "stdout"
        },
        {
          "output_type": "display_data",
          "data": {
            "text/html": [
              "\n",
              "        <progress\n",
              "            value='82'\n",
              "            max='82',\n",
              "            style='width: 100%'\n",
              "        >\n",
              "            82\n",
              "        </progress>\n",
              "    "
            ],
            "text/plain": [
              "<IPython.core.display.HTML object>"
            ]
          },
          "metadata": {
            "tags": []
          }
        },
        {
          "output_type": "stream",
          "text": [
            "Test epoch 7 loss: 0.021 correct: 99.39\n",
            "Best Model, Saving\n"
          ],
          "name": "stdout"
        },
        {
          "output_type": "display_data",
          "data": {
            "text/html": [
              "\n",
              "        <progress\n",
              "            value='732'\n",
              "            max='732',\n",
              "            style='width: 100%'\n",
              "        >\n",
              "            732\n",
              "        </progress>\n",
              "    "
            ],
            "text/plain": [
              "<IPython.core.display.HTML object>"
            ]
          },
          "metadata": {
            "tags": []
          }
        },
        {
          "output_type": "stream",
          "text": [
            "Train epoch 8 loss: 0.019 correct: 99.44\n"
          ],
          "name": "stdout"
        },
        {
          "output_type": "display_data",
          "data": {
            "text/html": [
              "\n",
              "        <progress\n",
              "            value='82'\n",
              "            max='82',\n",
              "            style='width: 100%'\n",
              "        >\n",
              "            82\n",
              "        </progress>\n",
              "    "
            ],
            "text/plain": [
              "<IPython.core.display.HTML object>"
            ]
          },
          "metadata": {
            "tags": []
          }
        },
        {
          "output_type": "stream",
          "text": [
            "Test epoch 8 loss: 0.019 correct: 99.39\n"
          ],
          "name": "stdout"
        },
        {
          "output_type": "display_data",
          "data": {
            "text/html": [
              "\n",
              "        <progress\n",
              "            value='732'\n",
              "            max='732',\n",
              "            style='width: 100%'\n",
              "        >\n",
              "            732\n",
              "        </progress>\n",
              "    "
            ],
            "text/plain": [
              "<IPython.core.display.HTML object>"
            ]
          },
          "metadata": {
            "tags": []
          }
        },
        {
          "output_type": "stream",
          "text": [
            "Train epoch 9 loss: 0.016 correct: 99.53\n"
          ],
          "name": "stdout"
        },
        {
          "output_type": "display_data",
          "data": {
            "text/html": [
              "\n",
              "        <progress\n",
              "            value='82'\n",
              "            max='82',\n",
              "            style='width: 100%'\n",
              "        >\n",
              "            82\n",
              "        </progress>\n",
              "    "
            ],
            "text/plain": [
              "<IPython.core.display.HTML object>"
            ]
          },
          "metadata": {
            "tags": []
          }
        },
        {
          "output_type": "stream",
          "text": [
            "Test epoch 9 loss: 0.017 correct: 99.50\n",
            "Best Model, Saving\n"
          ],
          "name": "stdout"
        },
        {
          "output_type": "display_data",
          "data": {
            "text/html": [
              "\n",
              "        <progress\n",
              "            value='732'\n",
              "            max='732',\n",
              "            style='width: 100%'\n",
              "        >\n",
              "            732\n",
              "        </progress>\n",
              "    "
            ],
            "text/plain": [
              "<IPython.core.display.HTML object>"
            ]
          },
          "metadata": {
            "tags": []
          }
        },
        {
          "output_type": "stream",
          "text": [
            "Train epoch 10 loss: 0.014 correct: 99.61\n"
          ],
          "name": "stdout"
        },
        {
          "output_type": "display_data",
          "data": {
            "text/html": [
              "\n",
              "        <progress\n",
              "            value='82'\n",
              "            max='82',\n",
              "            style='width: 100%'\n",
              "        >\n",
              "            82\n",
              "        </progress>\n",
              "    "
            ],
            "text/plain": [
              "<IPython.core.display.HTML object>"
            ]
          },
          "metadata": {
            "tags": []
          }
        },
        {
          "output_type": "stream",
          "text": [
            "Test epoch 10 loss: 0.015 correct: 99.55\n",
            "Best Model, Saving\n"
          ],
          "name": "stdout"
        }
      ]
    },
    {
      "cell_type": "code",
      "metadata": {
        "id": "qUG0DbIlQTv9",
        "colab_type": "code",
        "outputId": "5a3789ca-291a-4f47-cd1c-32dc3771f90e",
        "colab": {
          "base_uri": "https://localhost:8080/",
          "height": 592
        }
      },
      "source": [
        "import numpy as np\n",
        "import matplotlib.pyplot as plt\n",
        "%matplotlib inline\n",
        "\n",
        "# X coordinate for plotting\n",
        "x = np.arange(numEpoch)\n",
        "\n",
        "plt.figure(figsize=(20,10))\n",
        "\n",
        "# Train is red, validation is blue\n",
        "plt.subplot(1,2,1)\n",
        "plt.plot(x,train_accs,'r')\n",
        "plt.plot(x,val_accs,'b')\n",
        "\n",
        "plt.subplot(1,2,2)\n",
        "plt.plot(x,train_losses,'r')\n",
        "plt.plot(x,val_losses,'b')\n",
        "\n",
        "plt.show()"
      ],
      "execution_count": 0,
      "outputs": [
        {
          "output_type": "display_data",
          "data": {
            "image/png": "[encoded data removed]",
            "text/plain": [
              "<Figure size 1440x720 with 2 Axes>"
            ]
          },
          "metadata": {
            "tags": [],
            "needs_background": "light"
          }
        }
      ]
    },
    {
      "cell_type": "code",
      "metadata": {
        "id": "ucns67rE-dpy",
        "colab_type": "code",
        "outputId": "ce4b093b-da97-425a-a06a-bad477be0e44",
        "colab": {
          "base_uri": "https://localhost:8080/",
          "height": 34
        }
      },
      "source": [
        "correct = 0\n",
        "total = 0\n",
        "for i, data in enumerate(testLoader, 0):\n",
        "  images, labels = data\n",
        "  if haveCuda:\n",
        "    images, labels = images.cuda(), labels.cuda()\n",
        "  with torch.no_grad():\n",
        "    outputs = net(images)\n",
        "    _, predicted = torch.max(outputs.data, 1)\n",
        "    total += labels.size(0)\n",
        "    correct += (predicted == labels).sum().item()\n",
        "\n",
        "print('Accuracy of the network on the 10418 test images: %d %%' % (100 * correct / total))"
      ],
      "execution_count": 0,
      "outputs": [
        {
          "output_type": "stream",
          "text": [
            "Accuracy of the network on the 10418 test images: 99 %\n"
          ],
          "name": "stdout"
        }
      ]
    },
    {
      "cell_type": "code",
      "metadata": {
        "id": "rvilZ0QVYpw7",
        "colab_type": "code",
        "outputId": "01a94b80-80f3-4ff2-8114-03c7f50635b9",
        "colab": {
          "base_uri": "https://localhost:8080/",
          "height": 317
        }
      },
      "source": [
        "# Get a minibatch from the test loader and convert to cuda\n",
        "inputs, labels = next(iter(testLoader))\n",
        "if haveCuda:\n",
        "    inputs, labels = inputs.cuda(), labels.cuda()\n",
        "\n",
        "# forward\n",
        "outputs = net(inputs)\n",
        "\n",
        "# Get predicted class indices\n",
        "_, predicted = torch.max(outputs, 1)\n",
        "\n",
        "# Values used for normalization\n",
        "mean = torch.Tensor((0.49139968, 0.48215827, 0.44653124)).unsqueeze(1).unsqueeze(1)\n",
        "std = torch.Tensor((0.24703233, 0.24348505, 0.26158768)).unsqueeze(1).unsqueeze(1)\n",
        "\n",
        "# Class names\n",
        "classes = ('Bump', 'Bumpy road', 'Bus stop', 'Children', 'Crossing (blue)', 'Crossing (red)', 'Cyclists',\n",
        "     'Danger (other)', 'Dangerous left turn', 'Dangerous right turn', 'Give way', 'Go ahead', 'Go ahead or left',\n",
        "     'Go ahead or right', 'Go around either way', 'Go around left', 'Go around right', 'Intersection', 'Limit 100',\n",
        "     'Limit 120', 'Limit 20', 'Limit 30', 'Limit 50', 'Limit 60', 'Limit 70', 'Limit 80', 'Limit 80 over',\n",
        "     'Limit over', 'Main road', 'Main road over', 'Multiple dangerous turns', 'Narrow road (left)',\n",
        "     'Narrow road (right)', 'No entry', 'No entry (both directions)', 'No entry (truck)', 'No stopping', 'No takeover',\n",
        "     'No takeover (truck)', 'No takeover (truck) end', 'No takeover end', 'No waiting', 'One way road',\n",
        "     'Parking', 'Road works', 'Roundabout', 'Slippery road', 'Stop', 'Traffic light', 'Train crossing',\n",
        "     'Train crossing (no barrier)', 'Wild animals')\n",
        "\n",
        "# List of subplots - we'll use 16 images\n",
        "f, axarr = plt.subplots(2, 8,figsize=(20, 5))\n",
        "\n",
        "# For every image-prediction pair\n",
        "for i,(img,pred) in enumerate(zip(inputs,predicted)):\n",
        "    # undo the normalization\n",
        "    img_rescaled = img.cpu() * std + mean\n",
        "    \n",
        "    # Get predicted class name\n",
        "    name = classes[pred.cpu().item()]\n",
        "    \n",
        "    # Permutation needed because in PyTorch the channel dimension comes first,\n",
        "    # but in numpy and opencv it comes last (3x32x32) -> (32x32x3)\n",
        "    axarr[i//8,i%8].imshow(img_rescaled.permute(1,2,0))\n",
        "    \n",
        "    # Set title to class name\n",
        "    axarr[i//8,i%8].set_title(name)\n",
        "    \n",
        "    # Hide grid lines\n",
        "    axarr[i//8,i%8].grid(False)\n",
        "    \n",
        "    # Hide axes ticks\n",
        "    axarr[i//8,i%8].set_xticks([])\n",
        "    axarr[i//8,i%8].set_yticks([])\n",
        "    \n",
        "    # Only do the first 16\n",
        "    if i == 15:\n",
        "        break"
      ],
      "execution_count": 0,
      "outputs": [
        {
          "output_type": "display_data",
          "data": {
            "image/png": "[encoded data removed]",
            "text/plain": [
              "<Figure size 1440x360 with 16 Axes>"
            ]
          },
          "metadata": {
            "tags": []
          }
        }
      ]
    },
    {
      "cell_type": "code",
      "metadata": {
        "id": "N7CpZnu7Y5ud",
        "colab_type": "code",
        "colab": {}
      },
      "source": [
        ""
      ],
      "execution_count": 0,
      "outputs": []
    }
  ]
}